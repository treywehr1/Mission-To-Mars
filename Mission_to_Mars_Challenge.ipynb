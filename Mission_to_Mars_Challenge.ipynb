{
 "cells": [
  {
   "cell_type": "code",
   "execution_count": 72,
   "metadata": {},
   "outputs": [],
   "source": [
    "# Import Splinter, BeautifulSoup, and Pandas\n",
    "from splinter import Browser\n",
    "from bs4 import BeautifulSoup as soup\n",
    "import pandas as pd"
   ]
  },
  {
   "cell_type": "code",
   "execution_count": 73,
   "metadata": {},
   "outputs": [],
   "source": [
    "# Path to chromedriver\n",
    "!which chromedriver"
   ]
  },
  {
   "cell_type": "code",
   "execution_count": 74,
   "metadata": {},
   "outputs": [],
   "source": [
    "# Set the executable path and initialize the chrome browser in splinter\n",
    "executable_path = {'executable_path': '/usr/local/bin/chromedriver'}\n",
    "browser = Browser('chrome', **executable_path)"
   ]
  },
  {
   "cell_type": "markdown",
   "metadata": {},
   "source": [
    "### Visit the NASA Mars News Site"
   ]
  },
  {
   "cell_type": "code",
   "execution_count": 42,
   "metadata": {},
   "outputs": [
    {
     "output_type": "execute_result",
     "data": {
      "text/plain": [
       "True"
      ]
     },
     "metadata": {},
     "execution_count": 42
    }
   ],
   "source": [
    "# Visit the mars nasa news site\n",
    "url = 'https://mars.nasa.gov/news/'\n",
    "browser.visit(url)\n",
    "\n",
    "# Optional delay for loading the page\n",
    "browser.is_element_present_by_css(\"ul.item_list li.slide\", wait_time=1)"
   ]
  },
  {
   "cell_type": "code",
   "execution_count": 43,
   "metadata": {},
   "outputs": [],
   "source": [
    "# Convert the browser html to a soup object and then quit the browser\n",
    "html = browser.html\n",
    "news_soup = soup(html, 'html.parser')\n",
    "\n",
    "slide_elem = news_soup.select_one('ul.item_list li.slide')"
   ]
  },
  {
   "cell_type": "code",
   "execution_count": 44,
   "metadata": {},
   "outputs": [
    {
     "output_type": "execute_result",
     "data": {
      "text/plain": [
       "<div class=\"content_title\"><a href=\"/news/8801/hear-audio-from-nasas-perseverance-as-it-travels-through-deep-space/\" target=\"_self\">Hear Audio From NASA's Perseverance As It Travels Through Deep Space</a></div>"
      ]
     },
     "metadata": {},
     "execution_count": 44
    }
   ],
   "source": [
    "slide_elem.find(\"div\", class_='content_title')"
   ]
  },
  {
   "cell_type": "code",
   "execution_count": 45,
   "metadata": {},
   "outputs": [
    {
     "output_type": "execute_result",
     "data": {
      "text/plain": [
       "\"Hear Audio From NASA's Perseverance As It Travels Through Deep Space\""
      ]
     },
     "metadata": {},
     "execution_count": 45
    }
   ],
   "source": [
    "# Use the parent element to find the first a tag and save it as `news_title`\n",
    "news_title = slide_elem.find(\"div\", class_='content_title').get_text()\n",
    "news_title"
   ]
  },
  {
   "cell_type": "code",
   "execution_count": 46,
   "metadata": {},
   "outputs": [
    {
     "output_type": "execute_result",
     "data": {
      "text/plain": [
       "\"The first to be rigged with microphones, the agency's latest Mars rover picked up the subtle sounds of its own inner workings during interplanetary flight.\""
      ]
     },
     "metadata": {},
     "execution_count": 46
    }
   ],
   "source": [
    "# Use the parent element to find the paragraph text\n",
    "news_p = slide_elem.find('div', class_=\"article_teaser_body\").get_text()\n",
    "news_p"
   ]
  },
  {
   "cell_type": "markdown",
   "metadata": {},
   "source": [
    "### JPL Space Images Featured Image"
   ]
  },
  {
   "cell_type": "code",
   "execution_count": 47,
   "metadata": {},
   "outputs": [],
   "source": [
    "# Visit URL\n",
    "url = 'https://www.jpl.nasa.gov/spaceimages/?search=&category=Mars'\n",
    "browser.visit(url)"
   ]
  },
  {
   "cell_type": "code",
   "execution_count": 48,
   "metadata": {},
   "outputs": [],
   "source": [
    "# Find and click the full image button\n",
    "full_image_elem = browser.find_by_id('full_image')\n",
    "full_image_elem.click()"
   ]
  },
  {
   "cell_type": "code",
   "execution_count": 49,
   "metadata": {},
   "outputs": [],
   "source": [
    "# Find the more info button and click that\n",
    "browser.is_element_present_by_text('more info', wait_time=1)\n",
    "more_info_elem = browser.links.find_by_partial_text('more info')\n",
    "more_info_elem.click()"
   ]
  },
  {
   "cell_type": "code",
   "execution_count": 50,
   "metadata": {},
   "outputs": [],
   "source": [
    "# Parse the resulting html with soup\n",
    "html = browser.html\n",
    "img_soup = soup(html, 'html.parser')"
   ]
  },
  {
   "cell_type": "code",
   "execution_count": 51,
   "metadata": {},
   "outputs": [
    {
     "output_type": "execute_result",
     "data": {
      "text/plain": [
       "'/spaceimages/images/largesize/PIA14924_hires.jpg'"
      ]
     },
     "metadata": {},
     "execution_count": 51
    }
   ],
   "source": [
    "# find the relative image url\n",
    "img_url_rel = img_soup.select_one('figure.lede a img').get(\"src\")\n",
    "img_url_rel"
   ]
  },
  {
   "cell_type": "code",
   "execution_count": 52,
   "metadata": {},
   "outputs": [
    {
     "output_type": "execute_result",
     "data": {
      "text/plain": [
       "'https://www.jpl.nasa.gov/spaceimages/images/largesize/PIA14924_hires.jpg'"
      ]
     },
     "metadata": {},
     "execution_count": 52
    }
   ],
   "source": [
    "# Use the base url to create an absolute url\n",
    "img_url = f'https://www.jpl.nasa.gov{img_url_rel}'\n",
    "img_url"
   ]
  },
  {
   "cell_type": "markdown",
   "metadata": {},
   "source": [
    "### Mars Facts"
   ]
  },
  {
   "cell_type": "code",
   "execution_count": 53,
   "metadata": {},
   "outputs": [
    {
     "output_type": "execute_result",
     "data": {
      "text/plain": [
       "                      0                              1\n",
       "0  Equatorial Diameter:                       6,792 km\n",
       "1       Polar Diameter:                       6,752 km\n",
       "2                 Mass:  6.39 × 10^23 kg (0.11 Earths)\n",
       "3                Moons:            2 (Phobos & Deimos)\n",
       "4       Orbit Distance:       227,943,824 km (1.38 AU)"
      ],
      "text/html": "<div>\n<style scoped>\n    .dataframe tbody tr th:only-of-type {\n        vertical-align: middle;\n    }\n\n    .dataframe tbody tr th {\n        vertical-align: top;\n    }\n\n    .dataframe thead th {\n        text-align: right;\n    }\n</style>\n<table border=\"1\" class=\"dataframe\">\n  <thead>\n    <tr style=\"text-align: right;\">\n      <th></th>\n      <th>0</th>\n      <th>1</th>\n    </tr>\n  </thead>\n  <tbody>\n    <tr>\n      <th>0</th>\n      <td>Equatorial Diameter:</td>\n      <td>6,792 km</td>\n    </tr>\n    <tr>\n      <th>1</th>\n      <td>Polar Diameter:</td>\n      <td>6,752 km</td>\n    </tr>\n    <tr>\n      <th>2</th>\n      <td>Mass:</td>\n      <td>6.39 × 10^23 kg (0.11 Earths)</td>\n    </tr>\n    <tr>\n      <th>3</th>\n      <td>Moons:</td>\n      <td>2 (Phobos &amp; Deimos)</td>\n    </tr>\n    <tr>\n      <th>4</th>\n      <td>Orbit Distance:</td>\n      <td>227,943,824 km (1.38 AU)</td>\n    </tr>\n  </tbody>\n</table>\n</div>"
     },
     "metadata": {},
     "execution_count": 53
    }
   ],
   "source": [
    "df = pd.read_html('http://space-facts.com/mars/')[0]\n",
    "\n",
    "df.head()"
   ]
  },
  {
   "cell_type": "code",
   "execution_count": 54,
   "metadata": {},
   "outputs": [
    {
     "output_type": "execute_result",
     "data": {
      "text/plain": [
       "                                               Mars\n",
       "Description                                        \n",
       "Equatorial Diameter:                       6,792 km\n",
       "Polar Diameter:                            6,752 km\n",
       "Mass:                 6.39 × 10^23 kg (0.11 Earths)\n",
       "Moons:                          2 (Phobos & Deimos)\n",
       "Orbit Distance:            227,943,824 km (1.38 AU)\n",
       "Orbit Period:                  687 days (1.9 years)\n",
       "Surface Temperature:                   -87 to -5 °C\n",
       "First Record:                     2nd millennium BC\n",
       "Recorded By:                   Egyptian astronomers"
      ],
      "text/html": "<div>\n<style scoped>\n    .dataframe tbody tr th:only-of-type {\n        vertical-align: middle;\n    }\n\n    .dataframe tbody tr th {\n        vertical-align: top;\n    }\n\n    .dataframe thead th {\n        text-align: right;\n    }\n</style>\n<table border=\"1\" class=\"dataframe\">\n  <thead>\n    <tr style=\"text-align: right;\">\n      <th></th>\n      <th>Mars</th>\n    </tr>\n    <tr>\n      <th>Description</th>\n      <th></th>\n    </tr>\n  </thead>\n  <tbody>\n    <tr>\n      <th>Equatorial Diameter:</th>\n      <td>6,792 km</td>\n    </tr>\n    <tr>\n      <th>Polar Diameter:</th>\n      <td>6,752 km</td>\n    </tr>\n    <tr>\n      <th>Mass:</th>\n      <td>6.39 × 10^23 kg (0.11 Earths)</td>\n    </tr>\n    <tr>\n      <th>Moons:</th>\n      <td>2 (Phobos &amp; Deimos)</td>\n    </tr>\n    <tr>\n      <th>Orbit Distance:</th>\n      <td>227,943,824 km (1.38 AU)</td>\n    </tr>\n    <tr>\n      <th>Orbit Period:</th>\n      <td>687 days (1.9 years)</td>\n    </tr>\n    <tr>\n      <th>Surface Temperature:</th>\n      <td>-87 to -5 °C</td>\n    </tr>\n    <tr>\n      <th>First Record:</th>\n      <td>2nd millennium BC</td>\n    </tr>\n    <tr>\n      <th>Recorded By:</th>\n      <td>Egyptian astronomers</td>\n    </tr>\n  </tbody>\n</table>\n</div>"
     },
     "metadata": {},
     "execution_count": 54
    }
   ],
   "source": [
    "df.columns=['Description', 'Mars']\n",
    "df.set_index('Description', inplace=True)\n",
    "df"
   ]
  },
  {
   "cell_type": "code",
   "execution_count": 55,
   "metadata": {},
   "outputs": [
    {
     "output_type": "execute_result",
     "data": {
      "text/plain": [
       "'<table border=\"1\" class=\"dataframe\">\\n  <thead>\\n    <tr style=\"text-align: right;\">\\n      <th></th>\\n      <th>Mars</th>\\n    </tr>\\n    <tr>\\n      <th>Description</th>\\n      <th></th>\\n    </tr>\\n  </thead>\\n  <tbody>\\n    <tr>\\n      <th>Equatorial Diameter:</th>\\n      <td>6,792 km</td>\\n    </tr>\\n    <tr>\\n      <th>Polar Diameter:</th>\\n      <td>6,752 km</td>\\n    </tr>\\n    <tr>\\n      <th>Mass:</th>\\n      <td>6.39 × 10^23 kg (0.11 Earths)</td>\\n    </tr>\\n    <tr>\\n      <th>Moons:</th>\\n      <td>2 (Phobos &amp; Deimos)</td>\\n    </tr>\\n    <tr>\\n      <th>Orbit Distance:</th>\\n      <td>227,943,824 km (1.38 AU)</td>\\n    </tr>\\n    <tr>\\n      <th>Orbit Period:</th>\\n      <td>687 days (1.9 years)</td>\\n    </tr>\\n    <tr>\\n      <th>Surface Temperature:</th>\\n      <td>-87 to -5 °C</td>\\n    </tr>\\n    <tr>\\n      <th>First Record:</th>\\n      <td>2nd millennium BC</td>\\n    </tr>\\n    <tr>\\n      <th>Recorded By:</th>\\n      <td>Egyptian astronomers</td>\\n    </tr>\\n  </tbody>\\n</table>'"
      ]
     },
     "metadata": {},
     "execution_count": 55
    }
   ],
   "source": [
    "df.to_html()"
   ]
  },
  {
   "cell_type": "markdown",
   "metadata": {},
   "source": [
    "### Mars Weather"
   ]
  },
  {
   "cell_type": "code",
   "execution_count": 56,
   "metadata": {},
   "outputs": [],
   "source": [
    "# Visit the weather website\n",
    "url = 'https://mars.nasa.gov/insight/weather/'\n",
    "browser.visit(url)"
   ]
  },
  {
   "cell_type": "code",
   "execution_count": 57,
   "metadata": {},
   "outputs": [],
   "source": [
    "# Parse the data\n",
    "html = browser.html\n",
    "weather_soup = soup(html, 'html.parser')"
   ]
  },
  {
   "cell_type": "code",
   "execution_count": 58,
   "metadata": {},
   "outputs": [
    {
     "output_type": "stream",
     "name": "stdout",
     "text": [
      "<table class=\"mb_table\" id=\"weather_observation\" style=\"width:100%;\">\n <thead>\n  <tr>\n   <th colspan=\"2\" scope=\"col\">\n    Time\n   </th>\n   <th colspan=\"3\" id=\"temperature_lbl\" scope=\"col\">\n    Air Temperature (\n    <span class=\"lbl_fahrenheit\">\n     °F\n    </span>\n    <span class=\"slash\">\n     |\n    </span>\n    <span class=\"lbl_celsius fadeBlack\">\n     °C\n    </span>\n    )\n   </th>\n   <th colspan=\"4\" id=\"windspeed_lbl\" scope=\"col\">\n    Wind Speed (\n    <span class=\"lbl_mph\">\n     mph\n    </span>\n    <span class=\"slash\">\n     |\n    </span>\n    <span class=\"lbl_mps fadeBlack\">\n     m/s\n    </span>\n    )\n   </th>\n   <th colspan=\"3\" id=\"pressure_lbl\" scope=\"col\">\n    Pressure (Pa)\n   </th>\n  </tr>\n </thead>\n <tbody>\n  <tr id=\"weather_top\">\n   <th class=\"sol\" scope=\"row\">\n    Date\n   </th>\n   <th class=\"sol\" scope=\"row\">\n    Sol\n   </th>\n   <td class=\"temperature max\">\n    Max.\n   </td>\n   <td class=\"temperature avg\">\n    Avg.\n   </td>\n   <td class=\"temperature min\">\n    Min.\n   </td>\n   <td class=\"windspeed max\">\n    Max.\n   </td>\n   <td class=\"windspeed avg\">\n    Avg.\n   </td>\n   <td class=\"windspeed min\">\n    Min.\n   </td>\n   <td class=\"windspeed direction\">\n    Direction\n    <br/>\n    <span style=\"font-size:x-small\">\n     (most common)\n    </span>\n   </td>\n   <td class=\"pressure max\">\n    Max.\n   </td>\n   <td class=\"pressure avg\">\n    Avg.\n   </td>\n   <td class=\"pressure min\">\n    Min.\n   </td>\n  </tr>\n  <tr>\n   <th class=\"sol\" scope=\"row\">\n    Nov. 20, 2020\n   </th>\n   <th class=\"sol\" scope=\"row\">\n    706\n   </th>\n   <td class=\"temperature max\">\n    <span class=\"fahrenheit\">\n     <nobr>\n      11.6° F\n     </nobr>\n    </span>\n    <span class=\"celsius\" style=\"display: none;\">\n     <nobr>\n      -11.3° C\n     </nobr>\n    </span>\n   </td>\n   <td class=\"temperature avg\">\n    <span class=\"fahrenheit\">\n     <nobr>\n      -78.8° F\n     </nobr>\n    </span>\n    <span class=\"celsius\" style=\"display: none;\">\n     <nobr>\n      -61.6° C\n     </nobr>\n    </span>\n   </td>\n   <td class=\"temperature min\">\n    <span class=\"fahrenheit\">\n     <nobr>\n      -135.6° F\n     </nobr>\n    </span>\n    <span class=\"celsius\" style=\"display: none;\">\n     <nobr>\n      -93.1° C\n     </nobr>\n    </span>\n   </td>\n   <td class=\"windspeed max\">\n    <span class=\"mph\">\n     29.2\n    </span>\n    <span class=\"mps\" style=\"display:none\">\n     13.1\n    </span>\n   </td>\n   <td class=\"windspeed avg\">\n    <span class=\"mph\">\n     10.6\n    </span>\n    <span class=\"mps\" style=\"display:none\">\n     4.7\n    </span>\n   </td>\n   <td class=\"windspeed min\">\n    <span class=\"mph\">\n     0.4\n    </span>\n    <span class=\"mps\" style=\"display:none\">\n     0.2\n    </span>\n   </td>\n   <td class=\"windspeed point\">\n    W\n   </td>\n   <td class=\"pressure max\">\n    764.3\n   </td>\n   <td class=\"pressure avg\">\n    735.6\n   </td>\n   <td class=\"pressure min\">\n    678.5\n   </td>\n  </tr>\n  <tr>\n   <th class=\"sol\" scope=\"row\">\n    Nov. 19, 2020\n   </th>\n   <th class=\"sol\" scope=\"row\">\n    705\n   </th>\n   <td class=\"temperature max\">\n    <span class=\"fahrenheit\">\n     <nobr>\n      15.6° F\n     </nobr>\n    </span>\n    <span class=\"celsius\" style=\"display: none;\">\n     <nobr>\n      -9.1° C\n     </nobr>\n    </span>\n   </td>\n   <td class=\"temperature avg\">\n    <span class=\"fahrenheit\">\n     <nobr>\n      -76.6° F\n     </nobr>\n    </span>\n    <span class=\"celsius\" style=\"display: none;\">\n     <nobr>\n      -60.3° C\n     </nobr>\n    </span>\n   </td>\n   <td class=\"temperature min\">\n    <span class=\"fahrenheit\">\n     <nobr>\n      -138.3° F\n     </nobr>\n    </span>\n    <span class=\"celsius\" style=\"display: none;\">\n     <nobr>\n      -94.6° C\n     </nobr>\n    </span>\n   </td>\n   <td class=\"windspeed max\">\n    <span class=\"mph\">\n     36.8\n    </span>\n    <span class=\"mps\" style=\"display:none\">\n     16.4\n    </span>\n   </td>\n   <td class=\"windspeed avg\">\n    <span class=\"mph\">\n     10.1\n    </span>\n    <span class=\"mps\" style=\"display:none\">\n     4.5\n    </span>\n   </td>\n   <td class=\"windspeed min\">\n    <span class=\"mph\">\n     0.5\n    </span>\n    <span class=\"mps\" style=\"display:none\">\n     0.2\n    </span>\n   </td>\n   <td class=\"windspeed point\">\n    W\n   </td>\n   <td class=\"pressure max\">\n    766.2\n   </td>\n   <td class=\"pressure avg\">\n    735.3\n   </td>\n   <td class=\"pressure min\">\n    686.9\n   </td>\n  </tr>\n  <tr>\n   <th class=\"sol\" scope=\"row\">\n    Nov. 18, 2020\n   </th>\n   <th class=\"sol\" scope=\"row\">\n    704\n   </th>\n   <td class=\"temperature max\">\n    <span class=\"fahrenheit\">\n     <nobr>\n      17.2° F\n     </nobr>\n    </span>\n    <span class=\"celsius\" style=\"display: none;\">\n     <nobr>\n      -8.2° C\n     </nobr>\n    </span>\n   </td>\n   <td class=\"temperature avg\">\n    <span class=\"fahrenheit\">\n     <nobr>\n      -81° F\n     </nobr>\n    </span>\n    <span class=\"celsius\" style=\"display: none;\">\n     <nobr>\n      -62.8° C\n     </nobr>\n    </span>\n   </td>\n   <td class=\"temperature min\">\n    <span class=\"fahrenheit\">\n     <nobr>\n      -142.7° F\n     </nobr>\n    </span>\n    <span class=\"celsius\" style=\"display: none;\">\n     <nobr>\n      -97.1° C\n     </nobr>\n    </span>\n   </td>\n   <td class=\"windspeed max\">\n    <span class=\"mph\">\n     31.6\n    </span>\n    <span class=\"mps\" style=\"display:none\">\n     14.1\n    </span>\n   </td>\n   <td class=\"windspeed avg\">\n    <span class=\"mph\">\n     9.9\n    </span>\n    <span class=\"mps\" style=\"display:none\">\n     4.4\n    </span>\n   </td>\n   <td class=\"windspeed min\">\n    <span class=\"mph\">\n     0.4\n    </span>\n    <span class=\"mps\" style=\"display:none\">\n     0.2\n    </span>\n   </td>\n   <td class=\"windspeed point\">\n    W\n   </td>\n   <td class=\"pressure max\">\n    766.3\n   </td>\n   <td class=\"pressure avg\">\n    735.1\n   </td>\n   <td class=\"pressure min\">\n    693.9\n   </td>\n  </tr>\n  <tr>\n   <th class=\"sol\" scope=\"row\">\n    Nov. 17, 2020\n   </th>\n   <th class=\"sol\" scope=\"row\">\n    703\n   </th>\n   <td class=\"temperature max\">\n    <span class=\"fahrenheit\">\n     <nobr>\n      15.9° F\n     </nobr>\n    </span>\n    <span class=\"celsius\" style=\"display: none;\">\n     <nobr>\n      -8.9° C\n     </nobr>\n    </span>\n   </td>\n   <td class=\"temperature avg\">\n    <span class=\"fahrenheit\">\n     <nobr>\n      -80° F\n     </nobr>\n    </span>\n    <span class=\"celsius\" style=\"display: none;\">\n     <nobr>\n      -62.2° C\n     </nobr>\n    </span>\n   </td>\n   <td class=\"temperature min\">\n    <span class=\"fahrenheit\">\n     <nobr>\n      -140.8° F\n     </nobr>\n    </span>\n    <span class=\"celsius\" style=\"display: none;\">\n     <nobr>\n      -96° C\n     </nobr>\n    </span>\n   </td>\n   <td class=\"windspeed max\">\n    <span class=\"mph\">\n     47.4\n    </span>\n    <span class=\"mps\" style=\"display:none\">\n     21.2\n    </span>\n   </td>\n   <td class=\"windspeed avg\">\n    <span class=\"mph\">\n     13\n    </span>\n    <span class=\"mps\" style=\"display:none\">\n     5.8\n    </span>\n   </td>\n   <td class=\"windspeed min\">\n    <span class=\"mph\">\n     0.5\n    </span>\n    <span class=\"mps\" style=\"display:none\">\n     0.2\n    </span>\n   </td>\n   <td class=\"windspeed point\">\n    W\n   </td>\n   <td class=\"pressure max\">\n    768\n   </td>\n   <td class=\"pressure avg\">\n    737.9\n   </td>\n   <td class=\"pressure min\">\n    698.8\n   </td>\n  </tr>\n  <tr>\n   <th class=\"sol\" scope=\"row\">\n    Nov. 15, 2020\n   </th>\n   <th class=\"sol\" scope=\"row\">\n    701\n   </th>\n   <td class=\"temperature max\">\n    <span class=\"fahrenheit\">\n     <nobr>\n      -° F\n     </nobr>\n    </span>\n    <span class=\"celsius\" style=\"display: none;\">\n     <nobr>\n      -° C\n     </nobr>\n    </span>\n   </td>\n   <td class=\"temperature avg\">\n    <span class=\"fahrenheit\">\n     <nobr>\n      -° F\n     </nobr>\n    </span>\n    <span class=\"celsius\" style=\"display: none;\">\n     <nobr>\n      -° C\n     </nobr>\n    </span>\n   </td>\n   <td class=\"temperature min\">\n    <span class=\"fahrenheit\">\n     <nobr>\n      -° F\n     </nobr>\n    </span>\n    <span class=\"celsius\" style=\"display: none;\">\n     <nobr>\n      -° C\n     </nobr>\n    </span>\n   </td>\n   <td class=\"windspeed max\">\n    <span class=\"mph\">\n     -\n    </span>\n    <span class=\"mps\" style=\"display:none\">\n     -\n    </span>\n   </td>\n   <td class=\"windspeed avg\">\n    <span class=\"mph\">\n     -\n    </span>\n    <span class=\"mps\" style=\"display:none\">\n     -\n    </span>\n   </td>\n   <td class=\"windspeed min\">\n    <span class=\"mph\">\n     -\n    </span>\n    <span class=\"mps\" style=\"display:none\">\n     -\n    </span>\n   </td>\n   <td class=\"windspeed point\">\n    n/a\n   </td>\n   <td class=\"pressure max\">\n    755.2\n   </td>\n   <td class=\"pressure avg\">\n    730.3\n   </td>\n   <td class=\"pressure min\">\n    704.7\n   </td>\n  </tr>\n  <tr>\n   <th class=\"sol\" scope=\"row\">\n    Nov. 14, 2020\n   </th>\n   <th class=\"sol\" scope=\"row\">\n    700\n   </th>\n   <td class=\"temperature max\">\n    <span class=\"fahrenheit\">\n     <nobr>\n      8.2° F\n     </nobr>\n    </span>\n    <span class=\"celsius\" style=\"display: none;\">\n     <nobr>\n      -13.2° C\n     </nobr>\n    </span>\n   </td>\n   <td class=\"temperature avg\">\n    <span class=\"fahrenheit\">\n     <nobr>\n      -81.1° F\n     </nobr>\n    </span>\n    <span class=\"celsius\" style=\"display: none;\">\n     <nobr>\n      -62.9° C\n     </nobr>\n    </span>\n   </td>\n   <td class=\"temperature min\">\n    <span class=\"fahrenheit\">\n     <nobr>\n      -142° F\n     </nobr>\n    </span>\n    <span class=\"celsius\" style=\"display: none;\">\n     <nobr>\n      -96.6° C\n     </nobr>\n    </span>\n   </td>\n   <td class=\"windspeed max\">\n    <span class=\"mph\">\n     46.7\n    </span>\n    <span class=\"mps\" style=\"display:none\">\n     20.9\n    </span>\n   </td>\n   <td class=\"windspeed avg\">\n    <span class=\"mph\">\n     12.8\n    </span>\n    <span class=\"mps\" style=\"display:none\">\n     5.7\n    </span>\n   </td>\n   <td class=\"windspeed min\">\n    <span class=\"mph\">\n     0.5\n    </span>\n    <span class=\"mps\" style=\"display:none\">\n     0.2\n    </span>\n   </td>\n   <td class=\"windspeed point\">\n    WNW\n   </td>\n   <td class=\"pressure max\">\n    760.9\n   </td>\n   <td class=\"pressure avg\">\n    735.9\n   </td>\n   <td class=\"pressure min\">\n    708.7\n   </td>\n  </tr>\n  <tr>\n   <th class=\"sol\" scope=\"row\">\n    Nov. 13, 2020\n   </th>\n   <th class=\"sol\" scope=\"row\">\n    699\n   </th>\n   <td class=\"temperature max\">\n    <span class=\"fahrenheit\">\n     <nobr>\n      14.1° F\n     </nobr>\n    </span>\n    <span class=\"celsius\" style=\"display: none;\">\n     <nobr>\n      -9.9° C\n     </nobr>\n    </span>\n   </td>\n   <td class=\"temperature avg\">\n    <span class=\"fahrenheit\">\n     <nobr>\n      -80.8° F\n     </nobr>\n    </span>\n    <span class=\"celsius\" style=\"display: none;\">\n     <nobr>\n      -62.7° C\n     </nobr>\n    </span>\n   </td>\n   <td class=\"temperature min\">\n    <span class=\"fahrenheit\">\n     <nobr>\n      -144.1° F\n     </nobr>\n    </span>\n    <span class=\"celsius\" style=\"display: none;\">\n     <nobr>\n      -97.8° C\n     </nobr>\n    </span>\n   </td>\n   <td class=\"windspeed max\">\n    <span class=\"mph\">\n     31.8\n    </span>\n    <span class=\"mps\" style=\"display:none\">\n     14.2\n    </span>\n   </td>\n   <td class=\"windspeed avg\">\n    <span class=\"mph\">\n     9.5\n    </span>\n    <span class=\"mps\" style=\"display:none\">\n     4.2\n    </span>\n   </td>\n   <td class=\"windspeed min\">\n    <span class=\"mph\">\n     0.3\n    </span>\n    <span class=\"mps\" style=\"display:none\">\n     0.1\n    </span>\n   </td>\n   <td class=\"windspeed point\">\n    WNW\n   </td>\n   <td class=\"pressure max\">\n    753.6\n   </td>\n   <td class=\"pressure avg\">\n    731.8\n   </td>\n   <td class=\"pressure min\">\n    705.2\n   </td>\n  </tr>\n </tbody>\n</table>\n"
     ]
    }
   ],
   "source": [
    "# Scrape the Daily Weather Report table\n",
    "weather_table = weather_soup.find('table', class_='mb_table')\n",
    "print(weather_table.prettify())"
   ]
  },
  {
   "cell_type": "markdown",
   "metadata": {},
   "source": [
    "# D1: Scrape High-Resolution Mars’ Hemisphere Images and Titles"
   ]
  },
  {
   "cell_type": "markdown",
   "metadata": {},
   "source": [
    "### Hemispheres"
   ]
  },
  {
   "cell_type": "code",
   "execution_count": 87,
   "metadata": {},
   "outputs": [],
   "source": [
    "def hemisphere(browser):\n",
    "    hemisphere_img_urls = []\n",
    "    hemisphere_img_urls.clear()\n",
    "    for i in range(0,4):\n",
    "        url = 'https://astrogeology.usgs.gov/search/results?q=hemisphere+enhanced&k1=target&v1=Mars'\n",
    "        browser.visit(url)\n",
    "\n",
    "        hemispheres={}\n",
    "\n",
    "        links_found = browser.links.find_by_partial_text('Enhanced')[i]\n",
    "        links_found.click()\n",
    "\n",
    "        html = browser.html\n",
    "        img_soup = soup(html, 'html.parser')\n",
    "\n",
    "        img_url = img_soup.select('a', class_='downloads')[4].get('href')\n",
    "\n",
    "        for child in img_soup.select('h2')[0].children:\n",
    "\n",
    "            title=child\n",
    "\n",
    "        print(img_url)\n",
    "        print(title)\n",
    "\n",
    "\n",
    "        hemispheres['img_url']=img_url\n",
    "        hemispheres['title']=title\n",
    "\n",
    "        print(hemispheres)\n",
    "\n",
    "        hemisphere_image_urls.append(hemispheres)\n",
    "\n",
    "    return hemisphere_img_urls\n"
   ]
  },
  {
   "cell_type": "code",
   "execution_count": 68,
   "metadata": {},
   "outputs": [],
   "source": [
    "\n"
   ]
  },
  {
   "cell_type": "code",
   "execution_count": 69,
   "metadata": {},
   "outputs": [
    {
     "output_type": "execute_result",
     "data": {
      "text/plain": [
       "[]"
      ]
     },
     "metadata": {},
     "execution_count": 69
    }
   ],
   "source": [
    "# 4. Print the list that holds the dictionary of each image url and title.\n",
    "hemisphere_image_urls"
   ]
  },
  {
   "cell_type": "code",
   "execution_count": 88,
   "metadata": {},
   "outputs": [
    {
     "output_type": "stream",
     "name": "stdout",
     "text": [
      "https://astropedia.astrogeology.usgs.gov/download/Mars/Viking/cerberus_enhanced.tif/full.jpg\n",
      "Cerberus Hemisphere Enhanced\n",
      "{'img_url': 'https://astropedia.astrogeology.usgs.gov/download/Mars/Viking/cerberus_enhanced.tif/full.jpg', 'title': 'Cerberus Hemisphere Enhanced'}\n",
      "https://astropedia.astrogeology.usgs.gov/download/Mars/Viking/schiaparelli_enhanced.tif/full.jpg\n",
      "Schiaparelli Hemisphere Enhanced\n",
      "{'img_url': 'https://astropedia.astrogeology.usgs.gov/download/Mars/Viking/schiaparelli_enhanced.tif/full.jpg', 'title': 'Schiaparelli Hemisphere Enhanced'}\n",
      "https://astropedia.astrogeology.usgs.gov/download/Mars/Viking/syrtis_major_enhanced.tif/full.jpg\n",
      "Syrtis Major Hemisphere Enhanced\n",
      "{'img_url': 'https://astropedia.astrogeology.usgs.gov/download/Mars/Viking/syrtis_major_enhanced.tif/full.jpg', 'title': 'Syrtis Major Hemisphere Enhanced'}\n",
      "https://astropedia.astrogeology.usgs.gov/download/Mars/Viking/valles_marineris_enhanced.tif/full.jpg\n",
      "Valles Marineris Hemisphere Enhanced\n",
      "{'img_url': 'https://astropedia.astrogeology.usgs.gov/download/Mars/Viking/valles_marineris_enhanced.tif/full.jpg', 'title': 'Valles Marineris Hemisphere Enhanced'}\n"
     ]
    }
   ],
   "source": [
    "# 5. Quit the browser\n",
    "hemisphere_img_url = hemisphere(browser)"
   ]
  },
  {
   "cell_type": "code",
   "execution_count": 78,
   "metadata": {},
   "outputs": [
    {
     "output_type": "stream",
     "name": "stdout",
     "text": [
      "[]\n"
     ]
    }
   ],
   "source": [
    "print(hemisphere_img_url)"
   ]
  },
  {
   "cell_type": "code",
   "execution_count": null,
   "metadata": {},
   "outputs": [],
   "source": []
  }
 ],
 "metadata": {
  "kernelspec": {
   "name": "python3",
   "display_name": "Python 3.7.7 64-bit ('PythonData': conda)",
   "metadata": {
    "interpreter": {
     "hash": "ee6dd9f1b1264bbe70da40b66a2e82dd3efc0c980674ea1012e669d58c1bfb03"
    }
   }
  },
  "language_info": {
   "codemirror_mode": {
    "name": "ipython",
    "version": 3
   },
   "file_extension": ".py",
   "mimetype": "text/x-python",
   "name": "python",
   "nbconvert_exporter": "python",
   "pygments_lexer": "ipython3",
   "version": "3.7.7-final"
  },
  "nteract": {
   "version": "0.15.0"
  }
 },
 "nbformat": 4,
 "nbformat_minor": 2
}